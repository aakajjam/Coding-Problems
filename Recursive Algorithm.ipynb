{
 "cells": [
  {
   "cell_type": "code",
   "execution_count": 2,
   "id": "3248854e",
   "metadata": {},
   "outputs": [],
   "source": [
    "def fib(n):\n",
    "    if n == 0:\n",
    "        return(0)\n",
    "    elif n == 1:\n",
    "        return(1)\n",
    "    else:\n",
    "      return(fib(n-1) + fib(n-2)) # Asking the algorithim to call itself if n is not 0 or 1\n",
    "\n",
    "# Base case - Ending points for an algorithim, here it is 0 and 1\n",
    "# This is calling itself each time until it reaches the base case\n",
    "# Ex if we input 5 then the return will do fib(n-1) + fib(n-2) which will then do the same for 4 and 3 and so on until the end\n",
    "# This is the recursive Algorithm, it calls itself"
   ]
  },
  {
   "cell_type": "code",
   "execution_count": 6,
   "id": "d5801d73",
   "metadata": {},
   "outputs": [
    {
     "name": "stdout",
     "output_type": "stream",
     "text": [
      "5\n"
     ]
    }
   ],
   "source": [
    "print(fib(5))"
   ]
  }
 ],
 "metadata": {
  "kernelspec": {
   "display_name": "Python 3 (ipykernel)",
   "language": "python",
   "name": "python3"
  },
  "language_info": {
   "codemirror_mode": {
    "name": "ipython",
    "version": 3
   },
   "file_extension": ".py",
   "mimetype": "text/x-python",
   "name": "python",
   "nbconvert_exporter": "python",
   "pygments_lexer": "ipython3",
   "version": "3.8.5"
  }
 },
 "nbformat": 4,
 "nbformat_minor": 5
}
