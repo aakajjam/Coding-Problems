import matplotlib.pyplot as plt
import numpy as np

x = np.linspace(-3.14, 3.14, 200)

graph_this = plt.plot(x, np.sin(x), c = 'red')
print(graph_this)