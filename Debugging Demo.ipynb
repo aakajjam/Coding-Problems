{
 "cells": [
  {
   "cell_type": "code",
   "execution_count": 6,
   "id": "53ef0526",
   "metadata": {},
   "outputs": [
    {
     "name": "stdout",
     "output_type": "stream",
     "text": [
      "{'red': 20, 'blue': 31, 'gold': 19, 'purple': 26, 'black': 20, 'green': 24, 'orange': 19, 'yellow': 19, 'white': 22}\n"
     ]
    }
   ],
   "source": [
    "fileHandle = open('favoriteColor.csv', 'rt')\n",
    "allLines = fileHandle.readlines()\n",
    "fileHandle.close()\n",
    "titleLine = allLines.pop(0) # Gets the title\n",
    "\n",
    "#colorDict = {'red': 19, 'blue' = 22, ...a}\n",
    "colorDict = {}\n",
    "\n",
    "for ln in allLines:\n",
    "    ln = ln.strip().split(',')\n",
    "    col = ln[1]\n",
    "    if col in colorDict.keys():\n",
    "        colorDict[col] += 1\n",
    "    else:\n",
    "        colorDict[col] = 1\n",
    "\n",
    "print(colorDict)"
   ]
  }
 ],
 "metadata": {
  "kernelspec": {
   "display_name": "Python 3 (ipykernel)",
   "language": "python",
   "name": "python3"
  },
  "language_info": {
   "codemirror_mode": {
    "name": "ipython",
    "version": 3
   },
   "file_extension": ".py",
   "mimetype": "text/x-python",
   "name": "python",
   "nbconvert_exporter": "python",
   "pygments_lexer": "ipython3",
   "version": "3.8.5"
  }
 },
 "nbformat": 4,
 "nbformat_minor": 5
}
