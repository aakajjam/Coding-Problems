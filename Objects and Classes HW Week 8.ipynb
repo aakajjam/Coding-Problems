{
 "cells": [
  {
   "cell_type": "code",
   "execution_count": 1,
   "id": "dd269576",
   "metadata": {},
   "outputs": [],
   "source": [
    "class Vehicle:\n",
    "    def __init__(self, color, make, MPG, tankCapacity, currentGas):\n",
    "        self.color = color\n",
    "        self.make = make\n",
    "        self.MPG = MPG\n",
    "        self.tankCapacity = tankCapacity\n",
    "        self.currentGas = currentGas\n",
    "        \n",
    "    def fillTank(self, fillTank):\n",
    "        #self.fillTank = fillTank\n",
    "        self.currentGas = self.currentGas + fillTank\n",
    "        return(f\"The current gas is now {self.currentGas}\")\n",
    "        # This is adding the fillTank amount to the current gas amount\n",
    "        \n",
    "        \n",
    "        \n",
    "class Car(Vehicle):\n",
    "    numSeats = 5\n",
    "    def __init__(self, style = \"SUV\"):\n",
    "        super().__init__(self, color, make, MPG, tankCapacity, currentGas)\n",
    "        self.style = style\n",
    "    \n",
    "    def allWheelDrive(self):\n",
    "        return \"This is an All Wheel Drive\"\n",
    "\n",
    "class Motorcycle(Vehicle):\n",
    "    def __init__(self, make, year):\n",
    "        super(). __init__(self, color, make, MPG, tankCapacity, currentGas)\n",
    "        self.make = make\n",
    "        self.year = year\n",
    "       \n",
    "    def bike_type(self):\n",
    "        if self.make == \"Kawasaki\":\n",
    "            return \"This is the best make\"\n",
    "        elif self.make == \"Suzuki\":\n",
    "            return \"This is alright\"\n",
    "        else:\n",
    "            return \"Get a Kawasaki or Suzuki\"\n",
    "    "
   ]
  },
  {
   "cell_type": "code",
   "execution_count": 10,
   "id": "ee2a4771",
   "metadata": {},
   "outputs": [
    {
     "name": "stdout",
     "output_type": "stream",
     "text": [
      "The current gas is now 15\n",
      "Nissan\n",
      "Red\n",
      "30\n",
      "10\n"
     ]
    }
   ],
   "source": [
    "my_ride = Vehicle(\"Red\", \"Nissan\", 30, 10, 5)\n",
    "print(my_ride.fillTank(10))\n",
    "print(my_ride.make)\n",
    "print(my_ride.color)\n",
    "print(my_ride.MPG)\n",
    "print(my_ride.tankCapacity)"
   ]
  }
 ],
 "metadata": {
  "kernelspec": {
   "display_name": "Python 3 (ipykernel)",
   "language": "python",
   "name": "python3"
  },
  "language_info": {
   "codemirror_mode": {
    "name": "ipython",
    "version": 3
   },
   "file_extension": ".py",
   "mimetype": "text/x-python",
   "name": "python",
   "nbconvert_exporter": "python",
   "pygments_lexer": "ipython3",
   "version": "3.8.5"
  }
 },
 "nbformat": 4,
 "nbformat_minor": 5
}
