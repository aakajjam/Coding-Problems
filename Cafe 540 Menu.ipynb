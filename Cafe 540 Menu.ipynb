{
 "cells": [
  {
   "cell_type": "markdown",
   "id": "d3288469",
   "metadata": {},
   "source": [
    "Enter the Data to Create a Menu"
   ]
  },
  {
   "cell_type": "code",
   "execution_count": 50,
   "id": "aca033f5",
   "metadata": {},
   "outputs": [],
   "source": [
    "myMenu = {\n",
    "   'Turkey Sandwich': 4.50,\n",
    "   'Brownie': 1.25,\n",
    "   'Soda': 1.50,\n",
    "   'Ham Sandwich': 4.25,\n",
    "   'Veggie Sandwich': 4.00,\n",
    "   'Chips': 1.00,\n",
    "   'Hummus Wrap': 3.75,\n",
    "   'Side Salad': 2.25,\n",
    "   'Coffee': 1.75,\n",
    "   'Tea': 1.50,\n",
    "   'Fresh Fruit': 1.75,\n",
    "   'Cookie': 1.50,\n",
    "   'Lunch Combo': 7.50\n",
    "}\n",
    "\n",
    "sandwiches = ['Turkey Sandwich', 'Ham Sandwich', 'Veggie Sandwich', 'Hummus Wrap']\n",
    "sides = ['Brownie', 'Chips', 'Side Salad', 'Fresh Fruit', 'Cookie']\n",
    "drinks = ['Soda', 'Coffee', 'Tea']\n",
    "combos = ['Lunch Combo']\n",
    "\n",
    "menuCats = {\"Sandwiches: \": sandwiches , \"Side Dishes: \": sides, \"Drinks: \": drinks, \"Combinations: \": combos}\n",
    "# Inside of menuCats the words in black are variables"
   ]
  },
  {
   "cell_type": "markdown",
   "id": "bba5a73e",
   "metadata": {},
   "source": [
    "Some testing data that is quick to work with"
   ]
  },
  {
   "cell_type": "code",
   "execution_count": 51,
   "id": "1a3a99a4",
   "metadata": {},
   "outputs": [
    {
     "name": "stdout",
     "output_type": "stream",
     "text": [
      "Welcome to Cafe 540, Please see the menu below\n",
      "\n",
      "Sandwiches: \n",
      "['Turkey Sandwich', 'Ham Sandwich', 'Veggie Sandwich', 'Hummus Wrap']\n",
      "Ham Sandwich        : 4.25\n",
      "['Turkey Sandwich', 'Ham Sandwich', 'Veggie Sandwich', 'Hummus Wrap']\n",
      "Hummus Wrap         : 3.75\n",
      "['Turkey Sandwich', 'Ham Sandwich', 'Veggie Sandwich', 'Hummus Wrap']\n",
      "Turkey Sandwich     : 4.50\n",
      "['Turkey Sandwich', 'Ham Sandwich', 'Veggie Sandwich', 'Hummus Wrap']\n",
      "Veggie Sandwich     : 4.00\n",
      "\n",
      "Side Dishes: \n",
      "['Brownie', 'Chips', 'Side Salad', 'Fresh Fruit', 'Cookie']\n",
      "Brownie             : 1.25\n",
      "['Brownie', 'Chips', 'Side Salad', 'Fresh Fruit', 'Cookie']\n",
      "Chips               : 1.00\n",
      "['Brownie', 'Chips', 'Side Salad', 'Fresh Fruit', 'Cookie']\n",
      "Cookie              : 1.50\n",
      "['Brownie', 'Chips', 'Side Salad', 'Fresh Fruit', 'Cookie']\n",
      "Fresh Fruit         : 1.75\n",
      "['Brownie', 'Chips', 'Side Salad', 'Fresh Fruit', 'Cookie']\n",
      "Side Salad          : 2.25\n",
      "\n",
      "Drinks: \n",
      "['Soda', 'Coffee', 'Tea']\n",
      "Coffee              : 1.75\n",
      "['Soda', 'Coffee', 'Tea']\n",
      "Soda                : 1.50\n",
      "['Soda', 'Coffee', 'Tea']\n",
      "Tea                 : 1.50\n",
      "\n",
      "Combinations: \n",
      "['Lunch Combo']\n",
      "Lunch Combo         : 7.50\n"
     ]
    }
   ],
   "source": [
    "print(\"Welcome to Cafe 540, Please see the menu below\")\n",
    "for catKey in menuCats.keys():\n",
    "    print(\"\\n\"+catKey)\n",
    "    for anItem in sorted(menuCats[catKey]):# Ask the professor this portion\n",
    "        print(menuCats[catKey])\n",
    "        print(\"{:20}: {:.2f}\".format(anItem, myMenu[anItem])) # This is the format() method\n",
    "        # The curly brace with :25 says the first fill in should be 25 characters long\n",
    "            #The :.2f part says I want two places after the decimal to be printed"
   ]
  },
  {
   "cell_type": "code",
   "execution_count": 43,
   "id": "0f86c3f5",
   "metadata": {},
   "outputs": [],
   "source": [
    "myMenu = {\n",
    "    'sand1': 1,\n",
    "    'sand2': 2,\n",
    "    'side1': 3,\n",
    "    'side2': 4\n",
    "}\n",
    "\n",
    "sandwiches = ['sand1', 'sand2']\n",
    "sides = ['side1', 'side2']\n",
    "\n",
    "\n",
    "menuCats = {\"Sandwiches: \": sandwiches , \"Side Dishes: \": sides}"
   ]
  },
  {
   "cell_type": "code",
   "execution_count": 44,
   "id": "23ba542b",
   "metadata": {},
   "outputs": [
    {
     "name": "stdout",
     "output_type": "stream",
     "text": [
      "Welcome to Cafe 540, Please see the menu below\n",
      "\n",
      "Sandwiches: \n",
      "sand1               : 1.00\n",
      "sand2               : 2.00\n",
      "\n",
      "Side Dishes: \n",
      "side1               : 3.00\n",
      "side2               : 4.00\n"
     ]
    }
   ],
   "source": [
    "print(\"Welcome to Cafe 540, Please see the menu below\")\n",
    "for catKey in menuCats.keys():\n",
    "    print(\"\\n\"+catKey)\n",
    "    for aKey in myMenu.keys():\n",
    "        if aKey in menuCats[catKey]:\n",
    "            print(\"{:20}: {:.2f}\".format(aKey, myMenu[aKey])) # This is the format() method\n",
    "            # The curly brace with :25 says the first fill in should be 25 characters long\n",
    "            #The :.2f part says I want two places after the decimal to be printed\n"
   ]
  },
  {
   "cell_type": "code",
   "execution_count": null,
   "id": "13c99f4d",
   "metadata": {},
   "outputs": [],
   "source": []
  }
 ],
 "metadata": {
  "kernelspec": {
   "display_name": "Python 3 (ipykernel)",
   "language": "python",
   "name": "python3"
  },
  "language_info": {
   "codemirror_mode": {
    "name": "ipython",
    "version": 3
   },
   "file_extension": ".py",
   "mimetype": "text/x-python",
   "name": "python",
   "nbconvert_exporter": "python",
   "pygments_lexer": "ipython3",
   "version": "3.8.5"
  }
 },
 "nbformat": 4,
 "nbformat_minor": 5
}
