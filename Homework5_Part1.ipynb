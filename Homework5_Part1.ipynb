{
 "cells": [
  {
   "cell_type": "code",
   "execution_count": 40,
   "id": "27f0b0bb",
   "metadata": {},
   "outputs": [
    {
     "name": "stdout",
     "output_type": "stream",
     "text": [
      "N\n",
      "color\n",
      "blue      31\n",
      "purple    26\n",
      "green     24\n",
      "white     22\n",
      "red       20\n",
      "black     20\n",
      "gold      19\n",
      "orange    19\n",
      "yellow    19\n",
      "Name: color, dtype: int64\n"
     ]
    }
   ],
   "source": [
    "import numpy as np\n",
    "import pandas as pd\n",
    "\n",
    "readFile = pd.read_csv('favoriteColor.csv')\n",
    "#print(readFile) # Printing out all of the values in the file\n",
    "for line in readFile:\n",
    "    print(line)\n",
    "\n",
    "color_count = readFile.color.value_counts()\n",
    "print(color_count)\n",
    "\n"
   ]
  },
  {
   "cell_type": "code",
   "execution_count": 41,
   "id": "a4178078",
   "metadata": {},
   "outputs": [],
   "source": [
    "readFile.to_csv('favoriteColor', index = False)"
   ]
  }
 ],
 "metadata": {
  "kernelspec": {
   "display_name": "Python 3 (ipykernel)",
   "language": "python",
   "name": "python3"
  },
  "language_info": {
   "codemirror_mode": {
    "name": "ipython",
    "version": 3
   },
   "file_extension": ".py",
   "mimetype": "text/x-python",
   "name": "python",
   "nbconvert_exporter": "python",
   "pygments_lexer": "ipython3",
   "version": "3.8.5"
  }
 },
 "nbformat": 4,
 "nbformat_minor": 5
}
