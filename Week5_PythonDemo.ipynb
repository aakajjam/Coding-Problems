{
 "cells": [
  {
   "cell_type": "code",
   "execution_count": 13,
   "id": "5f56bc16",
   "metadata": {},
   "outputs": [],
   "source": [
    "myData = [['N', 'Name', 'Age', 'City'],\n",
    "          ['1', 'John', '22', 'Houston'],\n",
    "          ['2','Maria', '35', 'Seattle'],\n",
    "          ['3', 'Deborah', '63', 'Boston'],\n",
    "          ['4', 'Eugene', '72', 'Rochester']\n",
    "         ]\n",
    "          \n",
    "writeFile = open('myShet.csv', 'wt')\n",
    "for aLine in myData:\n",
    "    writeFile.write(','.join(aLine) + '\\n') # Writing to our file \n",
    "writeFile.close()"
   ]
  },
  {
   "cell_type": "code",
   "execution_count": 14,
   "id": "374b3f5f",
   "metadata": {},
   "outputs": [
    {
     "name": "stdout",
     "output_type": "stream",
     "text": [
      "['N', 'Name', 'Age', 'City']\n",
      "5\n"
     ]
    }
   ],
   "source": [
    "myData = [['N', 'Name', 'Age', 'City'],\n",
    "          ['1', 'John', '22', 'Houston'],\n",
    "          ['2','Maria', '35', 'Seattle'],\n",
    "          ['3', 'Deborah', '63', 'Boston'],\n",
    "          ['4', 'Eugene', '72', 'Rochester']\n",
    "         ]\n",
    "\n",
    "print(myData[0])\n",
    "print(len(myData))"
   ]
  },
  {
   "cell_type": "code",
   "execution_count": 16,
   "id": "30842e94",
   "metadata": {},
   "outputs": [
    {
     "name": "stdout",
     "output_type": "stream",
     "text": [
      "{'N': ['1', '2', '3', '4'], 'Name': ['John', 'Maria', 'Deborah', 'Eugene'], 'Age': ['22', '35', '63', '72'], 'City': ['Houston', 'Seattle', 'Boston', 'Rochester']}\n"
     ]
    }
   ],
   "source": [
    "readFile = open('mySheet.csv', 'rt')\n",
    "\n",
    "allLines = readFile.readlines()\n",
    "titleLine = allLines.pop(0).strip().split(',') \n",
    "# This is poping out the first element in the list which is the titleline which is called N,Name,Age,City\n",
    "# The strip removes newline characters or whitespace\n",
    "# The split turns the string into a list\n",
    "dataDictionary = {}\n",
    "for aHeader in titleLine: \n",
    "    dataDictionary[aHeader] = []\n",
    "# The for loop is iterating over the keys in variable titleline which is N,Name,Age,City (thses are our keys, which will have values)\n",
    "\n",
    "for aLine in allLines: # The allLines has the header removed N,Name,Age,City since we used the pop method\n",
    "    aLine = aLine.strip().split(',')\n",
    "    for i in range(len(titleLine)):\n",
    "        dataDictionary[titleLine[i]].append(aLine[i])\n",
    "\n",
    "print(dataDictionary)"
   ]
  },
  {
   "cell_type": "code",
   "execution_count": null,
   "id": "0fdf396f",
   "metadata": {},
   "outputs": [],
   "source": []
  }
 ],
 "metadata": {
  "kernelspec": {
   "display_name": "Python 3 (ipykernel)",
   "language": "python",
   "name": "python3"
  },
  "language_info": {
   "codemirror_mode": {
    "name": "ipython",
    "version": 3
   },
   "file_extension": ".py",
   "mimetype": "text/x-python",
   "name": "python",
   "nbconvert_exporter": "python",
   "pygments_lexer": "ipython3",
   "version": "3.8.5"
  }
 },
 "nbformat": 4,
 "nbformat_minor": 5
}
